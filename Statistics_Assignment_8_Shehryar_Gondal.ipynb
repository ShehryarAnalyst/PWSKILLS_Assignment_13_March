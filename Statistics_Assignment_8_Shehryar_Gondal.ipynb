{
 "cells": [
  {
   "cell_type": "markdown",
   "id": "31783d24",
   "metadata": {},
   "source": [
    "## Assignments Questions"
   ]
  },
  {
   "cell_type": "markdown",
   "id": "b695613a",
   "metadata": {},
   "source": [
    "__Q1. Explain the assumptions required to use ANOVA and provide examples of violations that could impact\n",
    "the validity of the results.__\n",
    "\n",
    "__Ans)__ The ANOVA (Analysis of Variance) test is a parametric statistical test that makes several assumptions about the data being analyzed. Violations of these assumptions can affect the validity of the ANOVA results. The main assumptions required for the ANOVA are as follows:\n",
    "\n",
    "* Independence: The data for each group should be independent of each other.\n",
    "\n",
    "* Normality: The data for each group should be normally distributed.\n",
    "\n",
    "* Homogeneity of variance: The variances of the groups being compared should be approximately equal.\n",
    "\n",
    "If any of these assumptions are violated, the ANOVA results may not be reliable."
   ]
  },
  {
   "cell_type": "markdown",
   "id": "ed579e01",
   "metadata": {},
   "source": [
    "__Q2. What are the three types of ANOVA, and in what situations would each be used?__\n",
    "\n",
    "__Ans)__ There are three types of ANOVA: one-way ANOVA, two-way ANOVA, and repeated measures ANOVA. The situations in which each type would be used are as follows:\n",
    "\n",
    "* One-way ANOVA: This type of ANOVA is used when there is only one independent variable, and the dependent variable is continuous. One-way ANOVA is used to test whether there is a significant difference between the means of three or more groups. For example, a one-way ANOVA could be used to test whether there is a significant difference in the average scores of three or more groups on a test.\n",
    "\n",
    "* Two-way ANOVA: This type of ANOVA is used when there are two independent variables, and the dependent variable is continuous. Two-way ANOVA is used to test whether there is a significant interaction between the two independent variables and the dependent variable. For example, a two-way ANOVA could be used to test whether there is a significant interaction between the type of treatment and the severity of the disease on the recovery time of patients.\n",
    "\n",
    "* Repeated Measures ANOVA: This type of ANOVA is used when the same subjects are measured multiple times, and the dependent variable is continuous. Repeated measures ANOVA is used to test whether there is a significant difference between the means of three or more groups over time or different conditions. For example, a repeated measures ANOVA could be used to test whether there is a significant difference in the average scores of the same group of students before and after a training program."
   ]
  },
  {
   "cell_type": "markdown",
   "id": "1d93fa12",
   "metadata": {},
   "source": [
    "__Q3. What is the partitioning of variance in ANOVA, and why is it important to understand this concept?__\n",
    "\n",
    "__Ans)__ Partitioning of variance is the process of decomposing the total variance in a dataset into different components, each of which represents a source of variation in the data. In ANOVA, the total variance in the dependent variable is partitioned into two types of variance: between-group variance and within-group variance. Understanding this concept is important because it helps to identify the sources of variation in the data and to determine whether the differences between the groups are significant or due to chance.\n",
    "\n",
    "Understanding the partitioning of variance is important because it allows researchers to test hypotheses about the differences between the means of the groups being compared. By comparing the ratio of the between-group variance to the within-group variance (F-statistic) to a critical value based on the chosen significance level, researchers can determine whether the observed differences between the means of the groups are statistically significant."
   ]
  },
  {
   "cell_type": "markdown",
   "id": "641acd09",
   "metadata": {},
   "source": [
    "__Q4. How would you calculate the total sum of squares (SST), explained sum of squares (SSE), and residual\n",
    "sum of squares (SSR) in a one-way ANOVA using Python?__"
   ]
  },
  {
   "cell_type": "code",
   "execution_count": 3,
   "id": "981669c5",
   "metadata": {},
   "outputs": [
    {
     "name": "stdout",
     "output_type": "stream",
     "text": [
      "SST: 663624.9769289957\n",
      "SSE: 1534173.8157823747\n",
      "SSR: -870548.838853379\n"
     ]
    }
   ],
   "source": [
    "import seaborn as sns\n",
    "import statsmodels.api as sm\n",
    "from statsmodels.formula.api import ols\n",
    "\n",
    "# load Titanic dataset from Seaborn\n",
    "titanic = sns.load_dataset('titanic')\n",
    "\n",
    "# define ANOVA model with Pclass as independent variable and Fare as dependent variable\n",
    "model = ols('fare ~ pclass', data=titanic).fit()\n",
    "\n",
    "# calculate SST\n",
    "sst = sm.stats.anova_lm(model, typ=1)['sum_sq'][0]\n",
    "\n",
    "# calculate SSE\n",
    "sse = sm.stats.anova_lm(model, typ=1)['sum_sq'][1]\n",
    "\n",
    "# calculate SSR\n",
    "ssr = sst - sse\n",
    "\n",
    "print('SST:', sst)\n",
    "print('SSE:', sse)\n",
    "print('SSR:', ssr)"
   ]
  },
  {
   "cell_type": "markdown",
   "id": "89728b7b",
   "metadata": {},
   "source": [
    "__Q5. In a two-way ANOVA, how would you calculate the main effects and interaction effects using Python?__"
   ]
  },
  {
   "cell_type": "code",
   "execution_count": 2,
   "id": "9b40731c",
   "metadata": {},
   "outputs": [
    {
     "name": "stdout",
     "output_type": "stream",
     "text": [
      "Main Effects: sex        26992.212049\n",
      "pclass    617550.791669\n",
      "Name: sum_sq, dtype: float64\n",
      "Interaction Effect: 45934.370324601216\n"
     ]
    }
   ],
   "source": [
    "import seaborn as sns\n",
    "import statsmodels.api as sm\n",
    "from statsmodels.formula.api import ols\n",
    "\n",
    "# load Titanic dataset from Seaborn\n",
    "titanic = sns.load_dataset('titanic')\n",
    "\n",
    "# define ANOVA model with Pclass and Sex as independent variables and Fare as dependent variable\n",
    "model = ols('fare ~ pclass + sex + pclass*sex', data=titanic).fit()\n",
    "\n",
    "# calculate main effects\n",
    "main_effects = sm.stats.anova_lm(model, typ=2)['sum_sq'][:2]\n",
    "\n",
    "# calculate interaction effect\n",
    "interaction_effect = sm.stats.anova_lm(model, typ=2)['sum_sq'][2]\n",
    "\n",
    "print('Main Effects:', main_effects)\n",
    "print('Interaction Effect:', interaction_effect)"
   ]
  },
  {
   "cell_type": "markdown",
   "id": "2e1e9fbe",
   "metadata": {},
   "source": [
    "__Q6. Suppose you conducted a one-way ANOVA and obtained an F-statistic of 5.23 and a p-value of 0.02.\n",
    "What can you conclude about the differences between the groups, and how would you interpret these\n",
    "results?__\n",
    "\n",
    "__Ans)__ An F-statistic of 5.23 and a p-value of 0.02 from a one-way ANOVA suggest that there is a statistically significant difference between the means of the groups. However, further analysis is needed to determine the specific nature of the differences, and it is important to consider the practical implications of the results in addition to their statistical significance."
   ]
  },
  {
   "cell_type": "markdown",
   "id": "ce5761fb",
   "metadata": {},
   "source": [
    "__Q7. In a epeated measures ANOVA, how would you handle missing data, and what are the potential\n",
    "consequences of using different methods to handle missing data?__\n",
    "\n",
    "__Ans)__ In a repeated measures ANOVA, missing data can be handled by exclusion or imputation methods such as mean imputation, regression imputation, or multiple imputation. However, the potential consequences of using different methods to handle missing data should be carefully considered, as different methods rely on different assumptions and may introduce bias or inaccuracies in the results. The choice of method should be based on the nature and extent of the missing data and the assumptions underlying the imputation method, and sensitivity analyses should be conducted to evaluate the robustness of the results to different assumptions."
   ]
  },
  {
   "cell_type": "markdown",
   "id": "6bd6b350",
   "metadata": {},
   "source": [
    "__Q8. What are some common post-hoc tests used after ANOVA, and when would you use each one? Provide\n",
    "an example of a situation where a post-hoc test might be necessary__\n",
    "\n",
    "__Ans)__ Post-hoc tests are used after ANOVA to determine which specific groups differ significantly from each other. Some common post-hoc tests include Tukey's Honestly Significant Difference (HSD), Bonferroni correction, Dunnett's test, and Scheffé's test.\n",
    "\n",
    "__An example of a situation where a post-hoc test might be necessary is in a study comparing the effectiveness of four different treatments for a medical condition. After conducting an ANOVA, it may be found that there is a significant difference between the means of the four treatment groups. However, the ANOVA does not tell us which specific groups are different from each other. In this case, a post-hoc test such as Tukey's HSD or Bonferroni correction could be used to compare the means of each pair of treatment groups and determine which groups are significantly different from each other.__\n",
    "\n",
    "It is important to note that post-hoc tests should only be conducted if the ANOVA result is significant. If the ANOVA result is not significant, post-hoc tests are not appropriate because there is no evidence of a difference between the groups. Additionally, it is important to choose an appropriate post-hoc test based on the nature of the data and the specific research question being addressed."
   ]
  },
  {
   "cell_type": "markdown",
   "id": "ff13a981",
   "metadata": {},
   "source": [
    "__Q9. A researcher wants to compare the mean weight loss of three diets: A, B, and C. They collect data from\n",
    "50 participants who were randomly assigned to one of the diets. Conduct a one-way ANOVA using Python\n",
    "to determine if there are any significant differences between the mean weight loss of the three diets.\n",
    "Report the F-statistic and p-value, and interpret the results.__"
   ]
  },
  {
   "cell_type": "code",
   "execution_count": 4,
   "id": "08a6f5ad",
   "metadata": {},
   "outputs": [
    {
     "name": "stdout",
     "output_type": "stream",
     "text": [
      "F-statistic: 135.79364818938228\n",
      "p-value: 3.6866706447631974e-25\n",
      "There is a significant difference between the mean weight loss of the three diets.\n"
     ]
    }
   ],
   "source": [
    "import numpy as np\n",
    "from scipy.stats import f_oneway\n",
    "\n",
    "# define weight loss data for each diet\n",
    "diet_A = np.array([5.6, 6.1, 4.8, 7.2, 5.4, 6.8, 4.9, 7.1, 5.8, 6.4,\n",
    "                   4.7, 5.9, 6.3, 5.5, 4.8, 7.4, 6.2, 5.1, 4.9, 6.7,\n",
    "                   5.3, 6.0, 4.6, 5.2, 7.0])\n",
    "diet_B = np.array([4.2, 3.8, 2.9, 5.1, 4.9, 3.5, 3.9, 5.6, 3.1, 4.5,\n",
    "                   5.0, 4.3, 3.7, 4.0, 4.8, 3.4, 4.1, 3.3, 3.6, 4.7,\n",
    "                   4.4, 3.6, 4.1, 4.2, 4.9])\n",
    "diet_C = np.array([2.8, 2.1, 1.9, 2.6, 3.0, 2.5, 2.7, 1.8, 3.3, 3.5,\n",
    "                   2.2, 2.9, 3.1, 2.6, 3.3, 3.0, 2.8, 2.1, 2.7, 2.2,\n",
    "                   2.5, 2.9, 2.6, 2.3, 2.1])\n",
    "\n",
    "# conduct one-way ANOVA\n",
    "F, p = f_oneway(diet_A, diet_B, diet_C)\n",
    "\n",
    "# report results\n",
    "print('F-statistic:', F)\n",
    "print('p-value:', p)\n",
    "if p < 0.05:\n",
    "    print('There is a significant difference between the mean weight loss of the three diets.')\n",
    "else:\n",
    "    print('There is no significant difference between the mean weight loss of the three diets.')"
   ]
  },
  {
   "cell_type": "markdown",
   "id": "aa023ddd",
   "metadata": {},
   "source": [
    "__Q10. A company wants to know if there are any significant differences in the average time it takes to\n",
    "complete a task using three different software programs: Program A, Program B, and Program C. They\n",
    "randomly assign 30 employees to one of the programs and record the time it takes each employee to\n",
    "complete the task. Conduct a two-way ANOVA using Python to determine if there are any main effects or\n",
    "interaction effects between the software programs and employee experience level (novice vs.\n",
    "experienced). Report the F-statistics and p-values, and interpret the results.__"
   ]
  },
  {
   "cell_type": "code",
   "execution_count": 5,
   "id": "e36b2e69",
   "metadata": {},
   "outputs": [
    {
     "name": "stdout",
     "output_type": "stream",
     "text": [
      "                                                sum_sq    df         F  \\\n",
      "C(software_program)                          16.800000   2.0  0.488234   \n",
      "C(employee_experience)                       18.050000   1.0  1.049122   \n",
      "C(software_program):C(employee_experience)   75.033333   2.0  2.180585   \n",
      "Residual                                    412.916667  24.0       NaN   \n",
      "\n",
      "                                              PR(>F)  \n",
      "C(software_program)                         0.619673  \n",
      "C(employee_experience)                      0.315923  \n",
      "C(software_program):C(employee_experience)  0.134848  \n",
      "Residual                                         NaN  \n"
     ]
    }
   ],
   "source": [
    "import pandas as pd\n",
    "import statsmodels.api as sm\n",
    "from statsmodels.formula.api import ols\n",
    "\n",
    "# create a pandas dataframe with completion time, software program, and employee experience level\n",
    "data = pd.DataFrame({'completion_time': [35, 40, 32, 33, 41, 38, 36, 39, 29, 31, 30, 33, 34, 32, 38, 36, 40, 42, 37, 31, 27, 29, 30, 28, 34, 37, 39, 35, 38, 40],\n",
    "                     'software_program': ['A', 'B', 'C', 'A', 'B', 'C', 'A', 'B', 'C', 'A', 'B', 'C', 'A', 'B', 'C', 'A', 'B', 'C', 'A', 'B', 'C', 'A', 'B', 'C', 'A', 'B', 'C', 'A', 'B', 'C'],\n",
    "                     'employee_experience': ['novice', 'novice', 'novice', 'novice', 'novice', 'novice', 'novice', 'novice', 'novice', 'experienced', 'experienced', 'experienced', 'experienced', 'experienced', 'experienced', 'experienced', 'experienced', 'experienced', 'novice', 'novice', 'novice', 'novice', 'novice', 'novice', 'novice', 'novice', 'novice', 'experienced', 'experienced', 'experienced']})\n",
    "\n",
    "# conduct two-way ANOVA\n",
    "model = ols('completion_time ~ C(software_program) + C(employee_experience) + C(software_program):C(employee_experience)', data=data).fit()\n",
    "anova_table = sm.stats.anova_lm(model, typ=2)\n",
    "\n",
    "# report results\n",
    "print(anova_table)"
   ]
  },
  {
   "cell_type": "markdown",
   "id": "98f8de66",
   "metadata": {},
   "source": [
    "__The output of the code snippet will include an ANOVA table with the F-statistics and p-values for the main effects of software program and employee experience level, as well as their interaction effect. Based on the p-values, we can determine whether there are any significant differences between the completion times for the different software programs or employee experience levels, as well as whether there is an interaction effect between them.__"
   ]
  },
  {
   "cell_type": "markdown",
   "id": "13f2028b",
   "metadata": {},
   "source": [
    "__Q11. An educational researcher is interested in whether a new teaching method improves student test\n",
    "scores. They randomly assign 100 students to either the control group (traditional teaching method) or the\n",
    "experimental group (new teaching method) and administer a test at the end of the semester. Conduct a\n",
    "two-sample t-test using Python to determine if there are any significant differences in test scores\n",
    "between the two groups. If the results are significant, follow up with a post-hoc test to determine which\n",
    "group(s) differ significantly from each other.__"
   ]
  },
  {
   "cell_type": "code",
   "execution_count": 6,
   "id": "c4c57787",
   "metadata": {},
   "outputs": [
    {
     "name": "stdout",
     "output_type": "stream",
     "text": [
      "t-statistic: -12.83475228455051\n",
      "p-value: 1.0424949919654563e-22\n",
      "There is a significant difference in test scores between the control and experimental groups.\n",
      " Multiple Comparison of Means - Tukey HSD, FWER=0.05  \n",
      "======================================================\n",
      " group1    group2    meandiff p-adj lower upper reject\n",
      "------------------------------------------------------\n",
      "control experimental     9.96  -0.0  8.42  11.5   True\n",
      "------------------------------------------------------\n"
     ]
    }
   ],
   "source": [
    "import numpy as np\n",
    "from scipy.stats import ttest_ind, f_oneway\n",
    "from statsmodels.stats.multicomp import pairwise_tukeyhsd\n",
    "\n",
    "# define test scores for control and experimental groups\n",
    "control = np.array([72, 80, 68, 75, 78, 85, 70, 79, 73, 81,\n",
    "                    74, 77, 82, 76, 79, 71, 83, 75, 76, 80,\n",
    "                    69, 78, 72, 77, 81, 70, 73, 79, 74, 82,\n",
    "                    76, 80, 74, 77, 69, 72, 73, 78, 75, 81,\n",
    "                    68, 79, 82, 77, 75, 80, 74, 71, 83, 76])\n",
    "experimental = np.array([85, 88, 78, 90, 83, 91, 87, 89, 86, 84,\n",
    "                         81, 92, 79, 89, 84, 88, 87, 81, 84, 82,\n",
    "                         90, 87, 86, 84, 83, 89, 88, 91, 86, 82,\n",
    "                         87, 89, 91, 85, 84, 82, 87, 86, 85, 89,\n",
    "                         90, 83, 82, 86, 84, 91, 85, 88, 89, 90])\n",
    "\n",
    "# conduct two-sample t-test\n",
    "t, p = ttest_ind(control, experimental)\n",
    "\n",
    "# report results\n",
    "print('t-statistic:', t)\n",
    "print('p-value:', p)\n",
    "if p < 0.05:\n",
    "    print('There is a significant difference in test scores between the control and experimental groups.')\n",
    "    # conduct post-hoc test (Tukey's HSD)\n",
    "    data = np.concatenate([control, experimental])\n",
    "    group_labels = np.concatenate([np.repeat('control', len(control)), np.repeat('experimental', len(experimental))])\n",
    "    tukey_results = pairwise_tukeyhsd(data, group_labels, 0.05)\n",
    "    print(tukey_results)\n",
    "else:\n",
    "    print('There is no significant difference in test scores between the control and experimental groups.')"
   ]
  },
  {
   "cell_type": "markdown",
   "id": "37672583",
   "metadata": {},
   "source": [
    "__Q12. A researcher wants to know if there are any significant differences in the average daily sales of three\n",
    "retail stores: Store A, Store B, and Store C. They randomly select 30 days and record the sales for each store\n",
    "on those days. Conduct a repeated measures ANOVA using Python to determine if there are any significant differences in sales between the three stores. If the results are significant, follow up with a post-\n",
    "hoc test to determine which store(s) differ significantly from each other.__"
   ]
  },
  {
   "cell_type": "code",
   "execution_count": 7,
   "id": "481fe118",
   "metadata": {},
   "outputs": [
    {
     "name": "stdout",
     "output_type": "stream",
     "text": [
      "              Anova\n",
      "==================================\n",
      "    F Value  Num DF  Den DF Pr > F\n",
      "----------------------------------\n",
      "day  1.5417 29.0000 58.0000 0.0805\n",
      "==================================\n",
      "\n",
      " Multiple Comparison of Means - Tukey HSD, FWER=0.05 \n",
      "=====================================================\n",
      "group1 group2 meandiff p-adj   lower    upper  reject\n",
      "-----------------------------------------------------\n",
      "     A      B     14.7 0.0007   5.5842 23.8158   True\n",
      "     A      C      4.7 0.4392  -4.4158 13.8158  False\n",
      "     B      C    -10.0  0.028 -19.1158 -0.8842   True\n",
      "-----------------------------------------------------\n"
     ]
    }
   ],
   "source": [
    "import pandas as pd\n",
    "import statsmodels.api as sm\n",
    "from statsmodels.stats.anova import AnovaRM\n",
    "from statsmodels.stats.multicomp import pairwise_tukeyhsd\n",
    "\n",
    "# create a pandas dataframe with daily sales data for each store\n",
    "data = pd.DataFrame({'day': [1, 2, 3, 4, 5, 6, 7, 8, 9, 10,\n",
    "                             11, 12, 13, 14, 15, 16, 17, 18, 19, 20,\n",
    "                             21, 22, 23, 24, 25, 26, 27, 28, 29, 30] * 3,\n",
    "                     'store': ['A'] * 30 + ['B'] * 30 + ['C'] * 30,\n",
    "                     'sales': [156, 132, 159, 142, 136, 148, 145, 157, 164, 140,\n",
    "                               131, 135, 141, 147, 143, 148, 152, 162, 155, 158,\n",
    "                               148, 146, 152, 149, 163, 160, 150, 155, 149, 157,\n",
    "                               135, 141, 138, 142, 129, 137, 146, 133, 131, 144,\n",
    "                               163, 158, 165, 169, 166, 171, 175, 170, 172, 168,\n",
    "                               184, 180, 178, 182, 187, 190, 189, 194, 193, 191,\n",
    "                               154, 143, 141, 147, 139, 150, 157, 146, 139, 149,\n",
    "                               162, 170, 163, 169, 160, 172, 174, 170, 168, 167,\n",
    "                               144, 142, 146, 138, 149, 150, 146, 154, 155, 157]})\n",
    "\n",
    "# conduct repeated measures ANOVA\n",
    "model = AnovaRM(data, 'sales', 'store', within=['day']).fit()\n",
    "print(model.summary())\n",
    "\n",
    "# conduct post-hoc test (Tukey's HSD)\n",
    "tukey_results = pairwise_tukeyhsd(data['sales'], data['store'], 0.05)\n",
    "print(tukey_results)"
   ]
  },
  {
   "cell_type": "markdown",
   "id": "53c95f82",
   "metadata": {},
   "source": [
    "-------------------------------------------------------------------------------------------- __End__----------------------------------------------------------------------------------------------------------------"
   ]
  }
 ],
 "metadata": {
  "kernelspec": {
   "display_name": "Python 3 (ipykernel)",
   "language": "python",
   "name": "python3"
  },
  "language_info": {
   "codemirror_mode": {
    "name": "ipython",
    "version": 3
   },
   "file_extension": ".py",
   "mimetype": "text/x-python",
   "name": "python",
   "nbconvert_exporter": "python",
   "pygments_lexer": "ipython3",
   "version": "3.9.12"
  },
  "varInspector": {
   "cols": {
    "lenName": 16,
    "lenType": 16,
    "lenVar": 40
   },
   "kernels_config": {
    "python": {
     "delete_cmd_postfix": "",
     "delete_cmd_prefix": "del ",
     "library": "var_list.py",
     "varRefreshCmd": "print(var_dic_list())"
    },
    "r": {
     "delete_cmd_postfix": ") ",
     "delete_cmd_prefix": "rm(",
     "library": "var_list.r",
     "varRefreshCmd": "cat(var_dic_list()) "
    }
   },
   "types_to_exclude": [
    "module",
    "function",
    "builtin_function_or_method",
    "instance",
    "_Feature"
   ],
   "window_display": false
  }
 },
 "nbformat": 4,
 "nbformat_minor": 5
}
